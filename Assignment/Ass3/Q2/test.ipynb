{
 "cells": [
  {
   "cell_type": "code",
   "execution_count": 9,
   "metadata": {},
   "outputs": [
    {
     "name": "stdout",
     "output_type": "stream",
     "text": [
      "8 4\n",
      "6 7 1 2\n",
      "1 3\n",
      "1 3\n",
      "3 2\n",
      "1 7\n",
      "3 5\n",
      "2 1\n",
      "7 6\n"
     ]
    }
   ],
   "source": [
    "import random\n",
    "\n",
    "def generate_sample_input(N, D, weight_range=(1, 10)):\n",
    "    assert D <= N, \"D (number of key nodes) must be ≤ N\"\n",
    "\n",
    "    # First line: N D\n",
    "    result = [f\"{N} {D}\"]\n",
    "\n",
    "    # Randomly select D unique key nodes from 1 to N\n",
    "    keys = random.sample(range(1, N + 1), D)\n",
    "    result.append(\" \".join(map(str, keys)))\n",
    "\n",
    "    # Generate edges to form a valid tree (node i connects to a random earlier node)\n",
    "    for i in range(2, N + 1):\n",
    "        u = random.randint(1, i - 1)  # Connect to any existing node\n",
    "        w = random.randint(*weight_range)\n",
    "        result.append(f\"{u} {w}\")\n",
    "\n",
    "    return \"\\n\".join(result)\n",
    "\n",
    "a = generate_sample_input(8, 4)\n",
    "print(a)"
   ]
  }
 ],
 "metadata": {
  "kernelspec": {
   "display_name": "Python 3",
   "language": "python",
   "name": "python3"
  },
  "language_info": {
   "codemirror_mode": {
    "name": "ipython",
    "version": 3
   },
   "file_extension": ".py",
   "mimetype": "text/x-python",
   "name": "python",
   "nbconvert_exporter": "python",
   "pygments_lexer": "ipython3",
   "version": "3.12.4"
  }
 },
 "nbformat": 4,
 "nbformat_minor": 2
}
